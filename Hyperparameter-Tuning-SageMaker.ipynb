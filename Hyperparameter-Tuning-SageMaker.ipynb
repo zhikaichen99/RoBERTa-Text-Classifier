{
 "cells": [
  {
   "cell_type": "markdown",
   "id": "f9658d74",
   "metadata": {},
   "source": [
    "# Hyperparameter Tuning in SageMaker"
   ]
  },
  {
   "cell_type": "code",
   "execution_count": 17,
   "id": "e1a23187",
   "metadata": {},
   "outputs": [],
   "source": [
    "import boto3\n",
    "import sagemaker\n",
    "\n",
    "sm = boto3.client(service_name='sagemaker')\n",
    "\n",
    "sagemaker_session = sagemaker.Session()\n",
    "region = sagemaker_session.boto_region_name\n",
    "bucket = sagemaker_session.default_bucket()\n",
    "role = sagemaker.get_execution_role()\n",
    "prefix = 'sagemaker-scikit-learn-2023-01-06-17-33-49-347/output'"
   ]
  },
  {
   "cell_type": "code",
   "execution_count": 5,
   "id": "9b42b776",
   "metadata": {},
   "outputs": [],
   "source": [
    "# Location of datasets\n",
    "processed_train_data_s3_uri = 's3://{}/{}/sentiment-train/train.csv'.format(bucket,prefix)\n",
    "processed_validation_data_s3_uri = 's3://{}/{}/sentiment-validation/validation.csv'.format(bucket,prefix)\n",
    "processed_test_data_s3_uri = 's3://{}/{}/sentiment-test/test.csv'.format(bucket,prefix)"
   ]
  },
  {
   "cell_type": "markdown",
   "id": "f415cb1d",
   "metadata": {},
   "source": [
    "## Create Data Channels"
   ]
  },
  {
   "cell_type": "code",
   "execution_count": 6,
   "id": "a52874fc",
   "metadata": {},
   "outputs": [],
   "source": [
    "# Create training data channel\n",
    "s3_input_train_data = sagemaker.inputs.TrainingInput(\n",
    "    s3_data = processed_train_data_s3_uri\n",
    ")\n",
    "\n",
    "# Create validation data channel\n",
    "s3_input_validation_data = sagemaker.inputs.TrainingInput(\n",
    "    s3_data = processed_validation_data_s3_uri\n",
    ")\n",
    "\n",
    "data_channels = {\n",
    "    'train': s3_input_train_data,\n",
    "    'validation': s3_input_validation_data\n",
    "}"
   ]
  },
  {
   "cell_type": "markdown",
   "id": "98c924fd",
   "metadata": {},
   "source": [
    "## Configure Hyperparameter Tuning Job"
   ]
  },
  {
   "cell_type": "code",
   "execution_count": 7,
   "id": "46eec726",
   "metadata": {},
   "outputs": [],
   "source": [
    "max_seq_length = 128\n",
    "freeze_bert_layer = False\n",
    "epochs = 3\n",
    "train_steps_per_epoch = 50\n",
    "validation_batch_size = 64\n",
    "validation_steps_per_epoch = 50\n",
    "seed = 42\n",
    "run_validation = True\n",
    "\n",
    "instance_count = 1\n",
    "instance_type = 'ml.c5.9xlarge'\n",
    "train_volume_size = 256\n",
    "input_mode = 'File'"
   ]
  },
  {
   "cell_type": "code",
   "execution_count": 8,
   "id": "a344cf6f",
   "metadata": {},
   "outputs": [],
   "source": [
    "hyperparameters_static = {\n",
    "    'max_seq_length': max_seq_length,\n",
    "    'freeze_bert_layer': freeze_bert_layer,\n",
    "    'epochs': epochs,\n",
    "    'train_steps_per_epoch': train_steps_per_epoch,\n",
    "    'validation_batch_size': validation_batch_size,\n",
    "    'validation_steps_per_epoch': validation_steps_per_epoch,\n",
    "    'seed': seed,\n",
    "    'run_validation': run_validation\n",
    "}"
   ]
  },
  {
   "cell_type": "code",
   "execution_count": 9,
   "id": "a11c5360",
   "metadata": {},
   "outputs": [],
   "source": [
    "from sagemaker.tuner import IntegerParameter\n",
    "from sagemaker.tuner import ContinuousParameter\n",
    "from sagemaker.tuner import CategoricalParameter\n",
    "\n",
    "hyperparameter_ranges = {\n",
    "    'learning_rate': ContinuousParameter(0.00001, 0.00005, scaling_type = 'Linear'),\n",
    "    'train_batch_size': CategoricalParameter([128, 256]),\n",
    "}"
   ]
  },
  {
   "cell_type": "markdown",
   "id": "5083a58d",
   "metadata": {},
   "source": [
    "## Evaluation Metrics"
   ]
  },
  {
   "cell_type": "code",
   "execution_count": 10,
   "id": "df29928b",
   "metadata": {},
   "outputs": [],
   "source": [
    "metric_definitions = [\n",
    "    {'Name': 'validation:loss', 'Regex': 'val_loss: ([0-9.]+)'},\n",
    "    {'Name': 'validation:accuracy', 'Regex': 'val_acc: ([0-9.]+)'}\n",
    "]"
   ]
  },
  {
   "cell_type": "markdown",
   "id": "652066c9",
   "metadata": {},
   "source": [
    "## Run Hyperparameter Tuning Job"
   ]
  },
  {
   "cell_type": "code",
   "execution_count": 11,
   "id": "36b1f38f",
   "metadata": {},
   "outputs": [],
   "source": [
    "from sagemaker.pytorch import PyTorch as PyTorchEstimator\n",
    "\n",
    "estimator = PyTorchEstimator(\n",
    "    entry_point = 'train.py',\n",
    "    source_dir = 'src',\n",
    "    role = role,\n",
    "    instance_count = instance_count,\n",
    "    instance_type = instance_type,\n",
    "    volume_size = train_volume_size,\n",
    "    py_version = 'py3',\n",
    "    framework_version = '1.6.0',\n",
    "    hyperparameters = hyperparameters_static,\n",
    "    metric_definitions = metric_definitions,\n",
    "    input_mode = input_mode,\n",
    ")"
   ]
  },
  {
   "cell_type": "code",
   "execution_count": 12,
   "id": "19606b19",
   "metadata": {},
   "outputs": [],
   "source": [
    "from sagemaker.tuner import HyperparameterTuner\n",
    "\n",
    "tuner = HyperparameterTuner(\n",
    "    estimator = estimator,\n",
    "    hyperparameter_ranges = hyperparameter_ranges,\n",
    "    metric_definitions= metric_definitions,\n",
    "    strategy = 'Random',\n",
    "    objective_type = 'Maximize',\n",
    "    objective_metric_name = 'validation:accuracy',\n",
    "    max_jobs = 2,\n",
    "    max_parallel_jobs = 2,\n",
    "    early_stopping_type = 'Auto'\n",
    ")"
   ]
  },
  {
   "cell_type": "code",
   "execution_count": 13,
   "id": "1d55f3af",
   "metadata": {},
   "outputs": [
    {
     "name": "stderr",
     "output_type": "stream",
     "text": [
      "No finished training job found associated with this estimator. Please make sure this estimator is only used for building workflow config\n",
      "No finished training job found associated with this estimator. Please make sure this estimator is only used for building workflow config\n"
     ]
    }
   ],
   "source": [
    "tuner.fit(\n",
    "    inputs = data_channels,\n",
    "    include_cls_metadata = False,\n",
    "    wait = False\n",
    ")"
   ]
  },
  {
   "cell_type": "code",
   "execution_count": 14,
   "id": "35f819ab",
   "metadata": {},
   "outputs": [
    {
     "name": "stdout",
     "output_type": "stream",
     "text": [
      "pytorch-training-230113-1550\n"
     ]
    }
   ],
   "source": [
    "tuning_job_name = tuner.latest_tuning_job.job_name\n",
    "print(tuning_job_name)"
   ]
  },
  {
   "cell_type": "code",
   "execution_count": 15,
   "id": "d99b561c",
   "metadata": {},
   "outputs": [
    {
     "name": "stdout",
     "output_type": "stream",
     "text": [
      "........................................................................................................................................................................................................................................................................................!\n",
      "CPU times: user 1.41 s, sys: 101 ms, total: 1.51 s\n",
      "Wall time: 23min 33s\n"
     ]
    }
   ],
   "source": [
    "%%time\n",
    "\n",
    "tuner.wait()"
   ]
  },
  {
   "cell_type": "markdown",
   "id": "3859f9a1",
   "metadata": {},
   "source": [
    "## Evaluate Results"
   ]
  },
  {
   "cell_type": "code",
   "execution_count": 16,
   "id": "40471cf4",
   "metadata": {},
   "outputs": [
    {
     "data": {
      "text/html": [
       "<div>\n",
       "<style scoped>\n",
       "    .dataframe tbody tr th:only-of-type {\n",
       "        vertical-align: middle;\n",
       "    }\n",
       "\n",
       "    .dataframe tbody tr th {\n",
       "        vertical-align: top;\n",
       "    }\n",
       "\n",
       "    .dataframe thead th {\n",
       "        text-align: right;\n",
       "    }\n",
       "</style>\n",
       "<table border=\"1\" class=\"dataframe\">\n",
       "  <thead>\n",
       "    <tr style=\"text-align: right;\">\n",
       "      <th></th>\n",
       "      <th>learning_rate</th>\n",
       "      <th>train_batch_size</th>\n",
       "      <th>TrainingJobName</th>\n",
       "      <th>TrainingJobStatus</th>\n",
       "      <th>FinalObjectiveValue</th>\n",
       "      <th>TrainingStartTime</th>\n",
       "      <th>TrainingEndTime</th>\n",
       "      <th>TrainingElapsedTimeSeconds</th>\n",
       "    </tr>\n",
       "  </thead>\n",
       "  <tbody>\n",
       "    <tr>\n",
       "      <th>0</th>\n",
       "      <td>0.000032</td>\n",
       "      <td>\"128\"</td>\n",
       "      <td>pytorch-training-230113-1550-002-81886cc1</td>\n",
       "      <td>Stopped</td>\n",
       "      <td>32.029999</td>\n",
       "      <td>2023-01-13 15:51:17+00:00</td>\n",
       "      <td>2023-01-13 15:53:21+00:00</td>\n",
       "      <td>124.0</td>\n",
       "    </tr>\n",
       "    <tr>\n",
       "      <th>1</th>\n",
       "      <td>0.000031</td>\n",
       "      <td>\"128\"</td>\n",
       "      <td>pytorch-training-230113-1550-001-621d2e2b</td>\n",
       "      <td>Completed</td>\n",
       "      <td>69.139999</td>\n",
       "      <td>2023-01-13 15:51:19+00:00</td>\n",
       "      <td>2023-01-13 16:14:26+00:00</td>\n",
       "      <td>1387.0</td>\n",
       "    </tr>\n",
       "  </tbody>\n",
       "</table>\n",
       "</div>"
      ],
      "text/plain": [
       "   learning_rate train_batch_size                            TrainingJobName  \\\n",
       "0       0.000032            \"128\"  pytorch-training-230113-1550-002-81886cc1   \n",
       "1       0.000031            \"128\"  pytorch-training-230113-1550-001-621d2e2b   \n",
       "\n",
       "  TrainingJobStatus  FinalObjectiveValue         TrainingStartTime  \\\n",
       "0           Stopped            32.029999 2023-01-13 15:51:17+00:00   \n",
       "1         Completed            69.139999 2023-01-13 15:51:19+00:00   \n",
       "\n",
       "            TrainingEndTime  TrainingElapsedTimeSeconds  \n",
       "0 2023-01-13 15:53:21+00:00                       124.0  \n",
       "1 2023-01-13 16:14:26+00:00                      1387.0  "
      ]
     },
     "execution_count": 16,
     "metadata": {},
     "output_type": "execute_result"
    }
   ],
   "source": [
    "df_results = tuner.analytics().dataframe()\n",
    "df_results"
   ]
  },
  {
   "cell_type": "code",
   "execution_count": 18,
   "id": "884f9962",
   "metadata": {},
   "outputs": [],
   "source": [
    "# Upload best model into S3 Bucket\n",
    "best_candidate = df_results.sort_values('FinalObjectiveValue', ascending = 0).iloc[0]\n",
    "\n",
    "training_job_top_model = best_candidate['TrainingJobName']\n",
    "\n",
    "model_tar_s3_uri = sm.describe_training_job(TrainingJobName = training_job_top_model)['ModelArtifacts']['S3ModelArtifacts']"
   ]
  },
  {
   "cell_type": "code",
   "execution_count": 19,
   "id": "acdbb9f7",
   "metadata": {},
   "outputs": [
    {
     "name": "stdout",
     "output_type": "stream",
     "text": [
      "s3://sagemaker-us-east-2-003294323742/pytorch-training-230113-1550-001-621d2e2b/output/model.tar.gz\n"
     ]
    }
   ],
   "source": [
    "print(model_tar_s3_uri)"
   ]
  },
  {
   "cell_type": "code",
   "execution_count": 28,
   "id": "3caf66b2",
   "metadata": {},
   "outputs": [],
   "source": [
    "from sagemaker.sklearn.processing import SKLearnProcessor\n",
    "\n",
    "instance_type = 'ml.c5.2xlarge'\n",
    "instance_count = 1\n",
    "\n",
    "processor = SKLearnProcessor(\n",
    "    framework_version = '0.23-1',\n",
    "    role = role,\n",
    "    instance_type = instance_type,\n",
    "    instance_count = instance_count,\n",
    "    max_runtime_in_seconds = 7200,\n",
    ")"
   ]
  },
  {
   "cell_type": "code",
   "execution_count": 29,
   "id": "f35a93a7",
   "metadata": {},
   "outputs": [
    {
     "name": "stdout",
     "output_type": "stream",
     "text": [
      "\n",
      "Job Name:  sagemaker-scikit-learn-2023-01-13-16-48-59-243\n",
      "Inputs:  [{'InputName': 'model-tar-s3-uri', 'AppManaged': False, 'S3Input': {'S3Uri': 's3://sagemaker-us-east-2-003294323742/pytorch-training-230113-1550-001-621d2e2b/output/model.tar.gz', 'LocalPath': '/opt/ml/processing/input/model/', 'S3DataType': 'S3Prefix', 'S3InputMode': 'File', 'S3DataDistributionType': 'FullyReplicated', 'S3CompressionType': 'None'}}, {'InputName': 'evaluation-data-s3-uri', 'AppManaged': False, 'S3Input': {'S3Uri': 's3://sagemaker-us-east-2-003294323742/sagemaker-scikit-learn-2023-01-06-17-33-49-347/output/sentiment-test/test.csv', 'LocalPath': '/opt/ml/processing/input/data', 'S3DataType': 'S3Prefix', 'S3InputMode': 'File', 'S3DataDistributionType': 'FullyReplicated', 'S3CompressionType': 'None'}}, {'InputName': 'code', 'AppManaged': False, 'S3Input': {'S3Uri': 's3://sagemaker-us-east-2-003294323742/sagemaker-scikit-learn-2023-01-13-16-48-59-243/input/code/evaluate_model_metrics.py', 'LocalPath': '/opt/ml/processing/input/code', 'S3DataType': 'S3Prefix', 'S3InputMode': 'File', 'S3DataDistributionType': 'FullyReplicated', 'S3CompressionType': 'None'}}]\n",
      "Outputs:  [{'OutputName': 'metrics', 'AppManaged': False, 'S3Output': {'S3Uri': 's3://sagemaker-us-east-2-003294323742/sagemaker-scikit-learn-2023-01-13-16-48-59-243/output/metrics', 'LocalPath': '/opt/ml/processing/output/metrics', 'S3UploadMode': 'EndOfJob'}}]\n"
     ]
    }
   ],
   "source": [
    "from sagemaker.processing import ProcessingInput, ProcessingOutput\n",
    "\n",
    "processor.run(\n",
    "    code = 'src/evaluate_model_metrics.py',\n",
    "    inputs = [\n",
    "        ProcessingInput(\n",
    "            input_name = 'model-tar-s3-uri',\n",
    "            source = model_tar_s3_uri,\n",
    "            destination = '/opt/ml/processing/input/model/'\n",
    "        ),\n",
    "        ProcessingInput(\n",
    "            input_name = 'evaluation-data-s3-uri',\n",
    "            source = processed_test_data_s3_uri,\n",
    "            destination = '/opt/ml/processing/input/data',\n",
    "        ),\n",
    "    ],\n",
    "    outputs = [\n",
    "        ProcessingOutput(s3_upload_mode = 'EndOfJob', output_name = 'metrics', source = '/opt/ml/processing/output/metrics'),\n",
    "    ],\n",
    "    arguments = ['--max-seq-length', str(max_seq_length)],\n",
    "    logs = True,\n",
    "    wait = False,\n",
    ")"
   ]
  },
  {
   "cell_type": "code",
   "execution_count": 30,
   "id": "0a32fe9a",
   "metadata": {},
   "outputs": [
    {
     "name": "stdout",
     "output_type": "stream",
     "text": [
      "sagemaker-scikit-learn-2023-01-13-16-48-59-243\n"
     ]
    }
   ],
   "source": [
    "scikit_processing_job_name = processor.jobs[-1].describe()[\"ProcessingJobName\"]\n",
    "print(scikit_processing_job_name)"
   ]
  },
  {
   "cell_type": "code",
   "execution_count": 31,
   "id": "55c2bd25",
   "metadata": {},
   "outputs": [],
   "source": [
    "running_processor = sagemaker.processing.ProcessingJob.from_processing_name(\n",
    "    processing_job_name=scikit_processing_job_name, sagemaker_session=sagemaker_session\n",
    ")"
   ]
  },
  {
   "cell_type": "code",
   "execution_count": 32,
   "id": "584aa59f",
   "metadata": {},
   "outputs": [
    {
     "name": "stdout",
     "output_type": "stream",
     "text": [
      ".........................................................................................................!CPU times: user 507 ms, sys: 35.3 ms, total: 542 ms\n",
      "Wall time: 8min 47s\n"
     ]
    }
   ],
   "source": [
    "%%time\n",
    "\n",
    "running_processor.wait(logs=False)"
   ]
  },
  {
   "cell_type": "code",
   "execution_count": 34,
   "id": "13ca0a68",
   "metadata": {},
   "outputs": [
    {
     "name": "stdout",
     "output_type": "stream",
     "text": [
      "s3://sagemaker-us-east-2-003294323742/sagemaker-scikit-learn-2023-01-13-16-48-59-243/output/metrics\n"
     ]
    }
   ],
   "source": [
    "processing_job_description = running_processor.describe()\n",
    "\n",
    "output_config = processing_job_description[\"ProcessingOutputConfig\"]\n",
    "for output in output_config[\"Outputs\"]:\n",
    "    if output[\"OutputName\"] == \"metrics\":\n",
    "        processed_metrics_s3_uri = output[\"S3Output\"][\"S3Uri\"]\n",
    "\n",
    "print(processed_metrics_s3_uri)"
   ]
  },
  {
   "cell_type": "code",
   "execution_count": 36,
   "id": "15d09afc",
   "metadata": {},
   "outputs": [
    {
     "name": "stdout",
     "output_type": "stream",
     "text": [
      "Test accuracy: {'metrics': {'accuracy': {'value': 0.6925566343042071}}}\n"
     ]
    }
   ],
   "source": [
    "import json\n",
    "\n",
    "metrics_json = sagemaker.s3.S3Downloader.read_file(\"{}/evaluation.json\".format(\n",
    "    processed_metrics_s3_uri\n",
    "))\n",
    "\n",
    "print('Test accuracy: {}'.format(json.loads(metrics_json)))"
   ]
  },
  {
   "cell_type": "code",
   "execution_count": null,
   "id": "9c071af2",
   "metadata": {},
   "outputs": [],
   "source": []
  }
 ],
 "metadata": {
  "kernelspec": {
   "display_name": "Python 3",
   "language": "python",
   "name": "python3"
  },
  "language_info": {
   "codemirror_mode": {
    "name": "ipython",
    "version": 3
   },
   "file_extension": ".py",
   "mimetype": "text/x-python",
   "name": "python",
   "nbconvert_exporter": "python",
   "pygments_lexer": "ipython3",
   "version": "3.7.3"
  },
  "vscode": {
   "interpreter": {
    "hash": "31f2aee4e71d21fbe5cf8b01ff0e069b9275f58929596ceb00d14d90e3e16cd6"
   }
  }
 },
 "nbformat": 4,
 "nbformat_minor": 5
}
