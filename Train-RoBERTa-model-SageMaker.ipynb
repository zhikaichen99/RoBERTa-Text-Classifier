{
 "cells": [
  {
   "attachments": {},
   "cell_type": "markdown",
   "id": "d9810e07",
   "metadata": {},
   "source": [
    "# Train RoBERTa Model with PyTorch in SageMaker"
   ]
  },
  {
   "cell_type": "code",
   "execution_count": 2,
   "id": "cca629b9",
   "metadata": {},
   "outputs": [],
   "source": [
    "import pandas as pd\n",
    "import numpy as np\n",
    "import json\n",
    "\n",
    "import torch\n",
    "import torch.distributed as dist\n",
    "import torch.nn as nn\n",
    "import torch.nn.functional as F\n",
    "import torch.optim as optim\n",
    "import torch.utils.data\n",
    "import torch.utils.data.distributed\n",
    "from torch.utils.data import Dataset, DataLoader\n",
    "\n",
    "from transformers import RobertaModel, RobertaConfig\n",
    "from transformers import RobertaForSequenceClassification\n",
    "from transformers import AdamW, get_linear_schedule_with_warmup"
   ]
  },
  {
   "cell_type": "code",
   "execution_count": 2,
   "id": "a2521ce1",
   "metadata": {},
   "outputs": [],
   "source": [
    "# Loading the datasets\n",
    "train = pd.read_csv('balanced/sentiment-train/train.csv')\n",
    "validation = pd.read_csv('balanced/sentiment-validation/validation.csv')"
   ]
  },
  {
   "cell_type": "code",
   "execution_count": 3,
   "id": "c59f91ae",
   "metadata": {},
   "outputs": [
    {
     "data": {
      "text/html": [
       "<div>\n",
       "<style scoped>\n",
       "    .dataframe tbody tr th:only-of-type {\n",
       "        vertical-align: middle;\n",
       "    }\n",
       "\n",
       "    .dataframe tbody tr th {\n",
       "        vertical-align: top;\n",
       "    }\n",
       "\n",
       "    .dataframe thead th {\n",
       "        text-align: right;\n",
       "    }\n",
       "</style>\n",
       "<table border=\"1\" class=\"dataframe\">\n",
       "  <thead>\n",
       "    <tr style=\"text-align: right;\">\n",
       "      <th></th>\n",
       "      <th>Unnamed: 0</th>\n",
       "      <th>review_id</th>\n",
       "      <th>sentiment</th>\n",
       "      <th>label_ids</th>\n",
       "      <th>input_ids</th>\n",
       "      <th>review_body</th>\n",
       "      <th>date</th>\n",
       "    </tr>\n",
       "  </thead>\n",
       "  <tbody>\n",
       "    <tr>\n",
       "      <th>0</th>\n",
       "      <td>0</td>\n",
       "      <td>12637</td>\n",
       "      <td>-1</td>\n",
       "      <td>0</td>\n",
       "      <td>[0, 100, 489, 667, 7, 465, 10, 3723, 2911, 783...</td>\n",
       "      <td>I keep trying to find a peplum that works for ...</td>\n",
       "      <td>2023-01-06T17:39:55Z</td>\n",
       "    </tr>\n",
       "  </tbody>\n",
       "</table>\n",
       "</div>"
      ],
      "text/plain": [
       "   Unnamed: 0  review_id  sentiment  label_ids  \\\n",
       "0           0      12637         -1          0   \n",
       "\n",
       "                                           input_ids  \\\n",
       "0  [0, 100, 489, 667, 7, 465, 10, 3723, 2911, 783...   \n",
       "\n",
       "                                         review_body                  date  \n",
       "0  I keep trying to find a peplum that works for ...  2023-01-06T17:39:55Z  "
      ]
     },
     "execution_count": 3,
     "metadata": {},
     "output_type": "execute_result"
    }
   ],
   "source": [
    "train.head(1)"
   ]
  },
  {
   "cell_type": "code",
   "execution_count": 4,
   "id": "ab168848",
   "metadata": {},
   "outputs": [
    {
     "data": {
      "text/html": [
       "<div>\n",
       "<style scoped>\n",
       "    .dataframe tbody tr th:only-of-type {\n",
       "        vertical-align: middle;\n",
       "    }\n",
       "\n",
       "    .dataframe tbody tr th {\n",
       "        vertical-align: top;\n",
       "    }\n",
       "\n",
       "    .dataframe thead th {\n",
       "        text-align: right;\n",
       "    }\n",
       "</style>\n",
       "<table border=\"1\" class=\"dataframe\">\n",
       "  <thead>\n",
       "    <tr style=\"text-align: right;\">\n",
       "      <th></th>\n",
       "      <th>Unnamed: 0</th>\n",
       "      <th>review_id</th>\n",
       "      <th>sentiment</th>\n",
       "      <th>label_ids</th>\n",
       "      <th>input_ids</th>\n",
       "      <th>review_body</th>\n",
       "      <th>date</th>\n",
       "    </tr>\n",
       "  </thead>\n",
       "  <tbody>\n",
       "    <tr>\n",
       "      <th>0</th>\n",
       "      <td>0</td>\n",
       "      <td>19426</td>\n",
       "      <td>1</td>\n",
       "      <td>2</td>\n",
       "      <td>[0, 713, 16, 10, 182, 3793, 8, 27360, 28033, 1...</td>\n",
       "      <td>This is a very soft and feminine chemise. it i...</td>\n",
       "      <td>2023-01-06T17:39:55Z</td>\n",
       "    </tr>\n",
       "  </tbody>\n",
       "</table>\n",
       "</div>"
      ],
      "text/plain": [
       "   Unnamed: 0  review_id  sentiment  label_ids  \\\n",
       "0           0      19426          1          2   \n",
       "\n",
       "                                           input_ids  \\\n",
       "0  [0, 713, 16, 10, 182, 3793, 8, 27360, 28033, 1...   \n",
       "\n",
       "                                         review_body                  date  \n",
       "0  This is a very soft and feminine chemise. it i...  2023-01-06T17:39:55Z  "
      ]
     },
     "execution_count": 4,
     "metadata": {},
     "output_type": "execute_result"
    }
   ],
   "source": [
    "validation.head(1)"
   ]
  },
  {
   "cell_type": "markdown",
   "id": "b708ea53",
   "metadata": {},
   "source": [
    "# Train Model in SageMaker"
   ]
  },
  {
   "cell_type": "code",
   "execution_count": 4,
   "id": "247f7d02",
   "metadata": {},
   "outputs": [],
   "source": [
    "import sagemaker\n",
    "import boto3\n",
    "import pandas as pd\n",
    "\n",
    "# low-level service client of the boto3 session\n",
    "sm = boto3.client(service_name='sagemaker')\n",
    "\n",
    "sm_runtime = boto3.client('sagemaker-runtime')\n",
    "\n",
    "sagemaker_session = sagemaker.Session(sagemaker_client=sm,\n",
    "                         sagemaker_runtime_client=sm_runtime)\n",
    "\n",
    "bucket = sagemaker_session.default_bucket()\n",
    "role = sagemaker.get_execution_role()\n",
    "region = sagemaker_session.boto_region_name\n",
    "prefix = 'sagemaker-scikit-learn-2023-01-06-17-33-49-347/output'"
   ]
  },
  {
   "cell_type": "code",
   "execution_count": 5,
   "id": "d2b091f6",
   "metadata": {},
   "outputs": [],
   "source": [
    "# Location of train and validation data\n",
    "processed_train_data_s3_uri = 's3://{}/{}/sentiment-train/train.csv'.format(bucket, prefix)\n",
    "processed_validation_data_s3_uri = 's3://{}/{}/sentiment-validation/validation.csv'.format(bucket, prefix)"
   ]
  },
  {
   "cell_type": "code",
   "execution_count": 6,
   "id": "2d6ea1de",
   "metadata": {},
   "outputs": [
    {
     "name": "stdout",
     "output_type": "stream",
     "text": [
      "2023-01-06 17:39:59    4895996 sagemaker-scikit-learn-2023-01-06-17-33-49-347/output/sentiment-train/train.csv\r\n"
     ]
    }
   ],
   "source": [
    "!aws s3 ls --recursive $processed_train_data_s3_uri"
   ]
  },
  {
   "cell_type": "code",
   "execution_count": 7,
   "id": "65076ace",
   "metadata": {},
   "outputs": [
    {
     "name": "stdout",
     "output_type": "stream",
     "text": [
      "2023-01-06 17:40:00     278047 sagemaker-scikit-learn-2023-01-06-17-33-49-347/output/sentiment-validation/validation.csv\r\n"
     ]
    }
   ],
   "source": [
    "!aws s3 ls --recursive $processed_validation_data_s3_uri"
   ]
  },
  {
   "cell_type": "code",
   "execution_count": 8,
   "id": "cf748b39",
   "metadata": {},
   "outputs": [
    {
     "data": {
      "text/html": [
       "<div>\n",
       "<style scoped>\n",
       "    .dataframe tbody tr th:only-of-type {\n",
       "        vertical-align: middle;\n",
       "    }\n",
       "\n",
       "    .dataframe tbody tr th {\n",
       "        vertical-align: top;\n",
       "    }\n",
       "\n",
       "    .dataframe thead th {\n",
       "        text-align: right;\n",
       "    }\n",
       "</style>\n",
       "<table border=\"1\" class=\"dataframe\">\n",
       "  <thead>\n",
       "    <tr style=\"text-align: right;\">\n",
       "      <th></th>\n",
       "      <th>input_ids</th>\n",
       "      <th>label_ids</th>\n",
       "    </tr>\n",
       "  </thead>\n",
       "  <tbody>\n",
       "    <tr>\n",
       "      <th>0</th>\n",
       "      <td>[0, 100, 489, 667, 7, 465, 10, 3723, 2911, 783...</td>\n",
       "      <td>0</td>\n",
       "    </tr>\n",
       "    <tr>\n",
       "      <th>1</th>\n",
       "      <td>[0, 1620, 5, 986, 37102, 2801, 6, 5, 12189, 17...</td>\n",
       "      <td>0</td>\n",
       "    </tr>\n",
       "    <tr>\n",
       "      <th>2</th>\n",
       "      <td>[0, 24450, 350, 251, 734, 627, 39328, 16, 5784...</td>\n",
       "      <td>0</td>\n",
       "    </tr>\n",
       "    <tr>\n",
       "      <th>3</th>\n",
       "      <td>[0, 100, 657, 42, 23204, 6, 941, 5, 21764, 4, ...</td>\n",
       "      <td>2</td>\n",
       "    </tr>\n",
       "    <tr>\n",
       "      <th>4</th>\n",
       "      <td>[0, 2847, 6, 42, 3588, 16, 2778, 3473, 6, 53, ...</td>\n",
       "      <td>1</td>\n",
       "    </tr>\n",
       "    <tr>\n",
       "      <th>...</th>\n",
       "      <td>...</td>\n",
       "      <td>...</td>\n",
       "    </tr>\n",
       "    <tr>\n",
       "      <th>5532</th>\n",
       "      <td>[0, 771, 10852, 42, 452, 328, 24, 10698, 1528,...</td>\n",
       "      <td>2</td>\n",
       "    </tr>\n",
       "    <tr>\n",
       "      <th>5533</th>\n",
       "      <td>[0, 10365, 1810, 328, 5, 1521, 16, 11962, 53, ...</td>\n",
       "      <td>0</td>\n",
       "    </tr>\n",
       "    <tr>\n",
       "      <th>5534</th>\n",
       "      <td>[0, 713, 19220, 118, 3588, 16, 2230, 99, 939, ...</td>\n",
       "      <td>2</td>\n",
       "    </tr>\n",
       "    <tr>\n",
       "      <th>5535</th>\n",
       "      <td>[0, 100, 794, 42, 3588, 804, 8, 269, 770, 7, 6...</td>\n",
       "      <td>0</td>\n",
       "    </tr>\n",
       "    <tr>\n",
       "      <th>5536</th>\n",
       "      <td>[0, 100, 2162, 42, 7, 213, 19, 5, 9304, 51, 56...</td>\n",
       "      <td>2</td>\n",
       "    </tr>\n",
       "  </tbody>\n",
       "</table>\n",
       "<p>5537 rows × 2 columns</p>\n",
       "</div>"
      ],
      "text/plain": [
       "                                              input_ids  label_ids\n",
       "0     [0, 100, 489, 667, 7, 465, 10, 3723, 2911, 783...          0\n",
       "1     [0, 1620, 5, 986, 37102, 2801, 6, 5, 12189, 17...          0\n",
       "2     [0, 24450, 350, 251, 734, 627, 39328, 16, 5784...          0\n",
       "3     [0, 100, 657, 42, 23204, 6, 941, 5, 21764, 4, ...          2\n",
       "4     [0, 2847, 6, 42, 3588, 16, 2778, 3473, 6, 53, ...          1\n",
       "...                                                 ...        ...\n",
       "5532  [0, 771, 10852, 42, 452, 328, 24, 10698, 1528,...          2\n",
       "5533  [0, 10365, 1810, 328, 5, 1521, 16, 11962, 53, ...          0\n",
       "5534  [0, 713, 19220, 118, 3588, 16, 2230, 99, 939, ...          2\n",
       "5535  [0, 100, 794, 42, 3588, 804, 8, 269, 770, 7, 6...          0\n",
       "5536  [0, 100, 2162, 42, 7, 213, 19, 5, 9304, 51, 56...          2\n",
       "\n",
       "[5537 rows x 2 columns]"
      ]
     },
     "execution_count": 8,
     "metadata": {},
     "output_type": "execute_result"
    }
   ],
   "source": [
    "test = pd.read_csv(processed_train_data_s3_uri)\n",
    "test[['input_ids', 'label_ids']]"
   ]
  },
  {
   "attachments": {},
   "cell_type": "markdown",
   "id": "cfc13d04",
   "metadata": {},
   "source": [
    "## Create Data Channels\n",
    "\n",
    "Setting up the input data channels. This is done by wrapping the S3 locations in a *TrainingInput* object to use with SageMaker Training Job"
   ]
  },
  {
   "cell_type": "code",
   "execution_count": 9,
   "id": "e0dca139",
   "metadata": {},
   "outputs": [],
   "source": [
    "# Create training data channel\n",
    "s3_input_train_data = sagemaker.inputs.TrainingInput(\n",
    "    s3_data = processed_train_data_s3_uri\n",
    ")\n",
    "\n",
    "# Create validation data channel\n",
    "s3_input_validation_data = sagemaker.inputs.TrainingInput(\n",
    "    s3_data = processed_validation_data_s3_uri\n",
    ")\n",
    "\n",
    "data_channels = {\n",
    "    'train': s3_input_train_data,\n",
    "    'validation': s3_input_validation_data\n",
    "}"
   ]
  },
  {
   "attachments": {},
   "cell_type": "markdown",
   "id": "2f3a7cec",
   "metadata": {},
   "source": [
    "## Configure Hyperparameters\n",
    "\n",
    "Setting the hyperparameters that will be passed into the PyTorch estimator for the hyperparameters argument."
   ]
  },
  {
   "cell_type": "code",
   "execution_count": 10,
   "id": "4f9d1d45",
   "metadata": {},
   "outputs": [],
   "source": [
    "max_seq_length=128 # maximum number of input tokens passed to BERT model\n",
    "freeze_bert_layer=False # specifies the depth of training within the network\n",
    "epochs=3\n",
    "learning_rate=2e-5\n",
    "train_batch_size=256\n",
    "train_steps_per_epoch=50\n",
    "validation_batch_size=256\n",
    "validation_steps_per_epoch=50\n",
    "seed=42\n",
    "run_validation=True\n",
    "\n",
    "train_instance_count=1\n",
    "train_instance_type='ml.c5.9xlarge'\n",
    "train_volume_size=256\n",
    "input_mode='File'"
   ]
  },
  {
   "cell_type": "code",
   "execution_count": 11,
   "id": "978a0b3e",
   "metadata": {},
   "outputs": [],
   "source": [
    "hyperparameters={\n",
    "    'max_seq_length': max_seq_length,\n",
    "    'freeze_bert_layer': freeze_bert_layer,\n",
    "    'epochs': epochs,\n",
    "    'learning_rate': learning_rate,\n",
    "    'train_batch_size': train_batch_size,\n",
    "    'train_steps_per_epoch': train_steps_per_epoch,\n",
    "    'validation_batch_size': validation_batch_size,\n",
    "    'validation_steps_per_epoch': validation_steps_per_epoch,    \n",
    "    'seed': seed,\n",
    "    'run_validation': run_validation\n",
    "}"
   ]
  },
  {
   "attachments": {},
   "cell_type": "markdown",
   "id": "6dcb165c",
   "metadata": {},
   "source": [
    "## Evaluation Metrics\n",
    "\n",
    "The evaluation metric used to evaluate our model is loss and accuracy.\n",
    "\n",
    "The Loss function we are using is Categorical Cross-Entropy. Cross entropy loss is commonly used in classification tasks. "
   ]
  },
  {
   "cell_type": "code",
   "execution_count": 12,
   "id": "688f4a4a",
   "metadata": {},
   "outputs": [],
   "source": [
    "metric_definitions = [\n",
    "     {'Name': 'validation:loss', 'Regex': 'val_loss: ([0-9.]+)'},\n",
    "     {'Name': 'validation:accuracy', 'Regex': 'val_acc: ([0-9.]+)'},\n",
    "]"
   ]
  },
  {
   "cell_type": "markdown",
   "id": "48bcf2e5",
   "metadata": {},
   "source": [
    "## Setup Debugger and Profiler"
   ]
  },
  {
   "cell_type": "code",
   "execution_count": 13,
   "id": "f2167118",
   "metadata": {},
   "outputs": [],
   "source": [
    "from sagemaker.debugger import Rule, ProfilerRule, rule_configs\n",
    "from sagemaker.debugger import DebuggerHookConfig\n",
    "from sagemaker.debugger import ProfilerConfig, FrameworkProfile"
   ]
  },
  {
   "cell_type": "code",
   "execution_count": 14,
   "id": "ddeb7dc3",
   "metadata": {},
   "outputs": [],
   "source": [
    "debugger_hook_config = DebuggerHookConfig(\n",
    "    s3_output_path='s3://{}'.format(bucket),\n",
    ")"
   ]
  },
  {
   "cell_type": "code",
   "execution_count": 15,
   "id": "6ad5075a",
   "metadata": {},
   "outputs": [],
   "source": [
    "profiler_config = ProfilerConfig(\n",
    "    system_monitor_interval_millis=500,\n",
    "    framework_profile_params=FrameworkProfile(local_path=\"/opt/ml/output/profiler/\", start_step=5, num_steps=10)\n",
    ")"
   ]
  },
  {
   "cell_type": "code",
   "execution_count": 16,
   "id": "a681e70b",
   "metadata": {},
   "outputs": [],
   "source": [
    "rules=[ProfilerRule.sagemaker(rule_configs.ProfilerReport())]"
   ]
  },
  {
   "attachments": {},
   "cell_type": "markdown",
   "id": "4a5914a8",
   "metadata": {},
   "source": [
    "## Train Model\n",
    "\n",
    "Prepare the PyTorch model to run as a SageMaker Training Job in a seperate Python file called *train.py*."
   ]
  },
  {
   "cell_type": "code",
   "execution_count": 45,
   "id": "4b081c56",
   "metadata": {},
   "outputs": [],
   "source": [
    "from sagemaker.pytorch import PyTorch as PyTorchEstimator\n",
    "\n",
    "\n",
    "estimator = PyTorchEstimator(\n",
    "    entry_point='train.py',\n",
    "    source_dir='src',\n",
    "    role=role,\n",
    "    instance_count=train_instance_count,\n",
    "    instance_type=train_instance_type,\n",
    "    volume_size=train_volume_size,\n",
    "    py_version='py3', # dynamically retrieves the correct training image (Python 3)\n",
    "    framework_version='1.6.0', # dynamically retrieves the correct training image (PyTorch)\n",
    "    hyperparameters=hyperparameters,\n",
    "    metric_definitions=metric_definitions,\n",
    "    input_mode=input_mode,\n",
    "    debugger_hook_config=debugger_hook_config,\n",
    "    profiler_config=profiler_config,\n",
    "    rules=rules\n",
    ")"
   ]
  },
  {
   "attachments": {},
   "cell_type": "markdown",
   "id": "437d0f4b",
   "metadata": {},
   "source": [
    "Launch the SageMaker Training Job which will be fitting the model to the dataset."
   ]
  },
  {
   "cell_type": "code",
   "execution_count": 46,
   "id": "d2267f1a",
   "metadata": {},
   "outputs": [
    {
     "name": "stderr",
     "output_type": "stream",
     "text": [
      "INFO:sagemaker.image_uris:image_uri is not presented, retrieving image_uri based on instance_type, framework etc.\n",
      "INFO:sagemaker.image_uris:image_uri is not presented, retrieving image_uri based on instance_type, framework etc.\n",
      "INFO:sagemaker:Creating training-job with name: pytorch-training-2023-01-09-17-09-57-083\n"
     ]
    }
   ],
   "source": [
    "estimator.fit(\n",
    "    inputs= data_channels, \n",
    "    wait=False\n",
    ")"
   ]
  },
  {
   "cell_type": "code",
   "execution_count": 47,
   "id": "61949d9b",
   "metadata": {},
   "outputs": [
    {
     "name": "stdout",
     "output_type": "stream",
     "text": [
      "pytorch-training-2023-01-09-17-09-57-083\n"
     ]
    }
   ],
   "source": [
    "training_job_name = estimator.latest_training_job.name\n",
    "print(training_job_name)"
   ]
  },
  {
   "cell_type": "code",
   "execution_count": 48,
   "id": "5439745d",
   "metadata": {},
   "outputs": [
    {
     "name": "stdout",
     "output_type": "stream",
     "text": [
      "\n",
      "2023-01-09 17:09:57 Starting - Starting the training job...\n",
      "2023-01-09 17:10:13 Starting - Preparing the instances for training............\n",
      "2023-01-09 17:11:21 Downloading - Downloading input data..\n",
      "2023-01-09 17:11:34 Training - Downloading the training image\n",
      "2023-01-09 17:11:41 Training - Training image download completed. Training in progress...........................................................................................................................................................................................................................................................................................................................................................................................................................................................\n",
      "2023-01-09 17:48:59 Uploading - Uploading generated training model.....................................\n",
      "2023-01-09 17:52:12 Completed - Training job completed\n",
      "CPU times: user 2.31 s, sys: 174 ms, total: 2.49 s\n",
      "Wall time: 42min 15s\n"
     ]
    }
   ],
   "source": [
    "%%time\n",
    "\n",
    "estimator.latest_training_job.wait(logs=False)"
   ]
  },
  {
   "attachments": {},
   "cell_type": "markdown",
   "id": "a86e05f8",
   "metadata": {},
   "source": [
    "Review the training metrics."
   ]
  },
  {
   "cell_type": "code",
   "execution_count": 49,
   "id": "463c8f24",
   "metadata": {},
   "outputs": [
    {
     "data": {
      "text/html": [
       "<div>\n",
       "<style scoped>\n",
       "    .dataframe tbody tr th:only-of-type {\n",
       "        vertical-align: middle;\n",
       "    }\n",
       "\n",
       "    .dataframe tbody tr th {\n",
       "        vertical-align: top;\n",
       "    }\n",
       "\n",
       "    .dataframe thead th {\n",
       "        text-align: right;\n",
       "    }\n",
       "</style>\n",
       "<table border=\"1\" class=\"dataframe\">\n",
       "  <thead>\n",
       "    <tr style=\"text-align: right;\">\n",
       "      <th></th>\n",
       "      <th>timestamp</th>\n",
       "      <th>metric_name</th>\n",
       "      <th>value</th>\n",
       "    </tr>\n",
       "  </thead>\n",
       "  <tbody>\n",
       "    <tr>\n",
       "      <th>0</th>\n",
       "      <td>0.0</td>\n",
       "      <td>validation:loss</td>\n",
       "      <td>1.13</td>\n",
       "    </tr>\n",
       "    <tr>\n",
       "      <th>1</th>\n",
       "      <td>1260.0</td>\n",
       "      <td>validation:loss</td>\n",
       "      <td>1.09</td>\n",
       "    </tr>\n",
       "    <tr>\n",
       "      <th>2</th>\n",
       "      <td>1740.0</td>\n",
       "      <td>validation:loss</td>\n",
       "      <td>0.74</td>\n",
       "    </tr>\n",
       "    <tr>\n",
       "      <th>3</th>\n",
       "      <td>0.0</td>\n",
       "      <td>validation:accuracy</td>\n",
       "      <td>32.81</td>\n",
       "    </tr>\n",
       "    <tr>\n",
       "      <th>4</th>\n",
       "      <td>1260.0</td>\n",
       "      <td>validation:accuracy</td>\n",
       "      <td>36.72</td>\n",
       "    </tr>\n",
       "    <tr>\n",
       "      <th>5</th>\n",
       "      <td>1740.0</td>\n",
       "      <td>validation:accuracy</td>\n",
       "      <td>66.41</td>\n",
       "    </tr>\n",
       "  </tbody>\n",
       "</table>\n",
       "</div>"
      ],
      "text/plain": [
       "   timestamp          metric_name  value\n",
       "0        0.0      validation:loss   1.13\n",
       "1     1260.0      validation:loss   1.09\n",
       "2     1740.0      validation:loss   0.74\n",
       "3        0.0  validation:accuracy  32.81\n",
       "4     1260.0  validation:accuracy  36.72\n",
       "5     1740.0  validation:accuracy  66.41"
      ]
     },
     "execution_count": 49,
     "metadata": {},
     "output_type": "execute_result"
    }
   ],
   "source": [
    "df_metrics = estimator.training_job_analytics.dataframe()\n",
    "df_metrics"
   ]
  },
  {
   "cell_type": "code",
   "execution_count": 50,
   "id": "598b16cf",
   "metadata": {},
   "outputs": [
    {
     "name": "stderr",
     "output_type": "stream",
     "text": [
      "INFO:matplotlib.font_manager:generated new fontManager\n"
     ]
    },
    {
     "data": {
      "text/plain": [
       "<AxesSubplot:xlabel='timestamp'>"
      ]
     },
     "execution_count": 50,
     "metadata": {},
     "output_type": "execute_result"
    },
    {
     "data": {
      "image/png": "[encoded data removed]",
      "text/plain": [
       "<Figure size 432x288 with 1 Axes>"
      ]
     },
     "metadata": {
      "needs_background": "light"
     },
     "output_type": "display_data"
    }
   ],
   "source": [
    "df_metrics.query(\"metric_name=='validation:accuracy'\").plot(x='timestamp', y='value')"
   ]
  },
  {
   "cell_type": "code",
   "execution_count": 51,
   "id": "56897a30",
   "metadata": {},
   "outputs": [],
   "source": [
    "profiler_report_s3_uri = \"s3://{}/{}/rule-output/ProfilerReport/profiler-output\".format(bucket, training_job_name)"
   ]
  },
  {
   "cell_type": "code",
   "execution_count": 52,
   "id": "7050253b",
   "metadata": {},
   "outputs": [],
   "source": [
    "from sagemaker.predictor import Predictor\n",
    "from sagemaker.serializers import JSONLinesSerializer\n",
    "from sagemaker.deserializers import JSONLinesDeserializer\n",
    "\n",
    "class SentimentPredictor(Predictor):\n",
    "    def __init__(self, endpoint_name, sagemaker_session):\n",
    "        super().__init__(endpoint_name, \n",
    "                         sagemaker_session=sagemaker_session, \n",
    "                         serializer=JSONLinesSerializer(),\n",
    "                         deserializer=JSONLinesDeserializer())"
   ]
  },
  {
   "cell_type": "code",
   "execution_count": 53,
   "id": "01be2064",
   "metadata": {},
   "outputs": [],
   "source": [
    "import time\n",
    "from sagemaker.pytorch.model import PyTorchModel\n",
    "\n",
    "timestamp = int(time.time())\n",
    "\n",
    "pytorch_model_name = '{}-{}-{}'.format(training_job_name, 'pt', timestamp)\n",
    "\n",
    "model = PyTorchModel(name=pytorch_model_name,\n",
    "                     model_data=estimator.model_data,\n",
    "                     predictor_cls=SentimentPredictor,\n",
    "                     entry_point='inference.py',\n",
    "                     source_dir='src',\n",
    "                     framework_version='1.6.0',\n",
    "                     py_version='py3',\n",
    "                     role=role)"
   ]
  },
  {
   "cell_type": "code",
   "execution_count": 54,
   "id": "8845fe41",
   "metadata": {},
   "outputs": [
    {
     "name": "stdout",
     "output_type": "stream",
     "text": [
      "pytorch-training-2023-01-09-17-09-57-083-pt-1673290741\n"
     ]
    }
   ],
   "source": [
    "import time\n",
    "\n",
    "pytorch_endpoint_name = '{}-{}-{}'.format(training_job_name, 'pt', timestamp)\n",
    "\n",
    "print(pytorch_endpoint_name)"
   ]
  },
  {
   "cell_type": "code",
   "execution_count": 55,
   "id": "8dab2cb6",
   "metadata": {},
   "outputs": [
    {
     "name": "stderr",
     "output_type": "stream",
     "text": [
      "INFO:sagemaker:Creating model with name: pytorch-training-2023-01-09-17-09-57-083-pt-1673290741\n",
      "INFO:sagemaker:Creating endpoint-config with name pytorch-training-2023-01-09-17-09-57-083-pt-1673290741\n",
      "INFO:sagemaker:Creating endpoint with name pytorch-training-2023-01-09-17-09-57-083-pt-1673290741\n"
     ]
    },
    {
     "name": "stdout",
     "output_type": "stream",
     "text": [
      "----------!CPU times: user 2min 37s, sys: 9.44 s, total: 2min 47s\n",
      "Wall time: 7min 52s\n"
     ]
    }
   ],
   "source": [
    "%%time\n",
    "\n",
    "predictor = model.deploy(initial_instance_count=1, \n",
    "                         instance_type='ml.m5.large', \n",
    "                         endpoint_name=pytorch_endpoint_name)"
   ]
  },
  {
   "cell_type": "code",
   "execution_count": 57,
   "id": "18a292eb",
   "metadata": {},
   "outputs": [
    {
     "name": "stdout",
     "output_type": "stream",
     "text": [
      "Predicted class 1 with probability 0.9308392405509949\n",
      "Predicted class 0 with probability 0.5391462445259094\n",
      "Predicted class -1 with probability 0.5177765488624573\n"
     ]
    }
   ],
   "source": [
    "inputs = [\n",
    "    {\"features\": [\"I love this product!\"]},\n",
    "    {\"features\": [\"OK, but not great.\"]},\n",
    "    {\"features\": [\"This is not the right product.\"]},\n",
    "]\n",
    "\n",
    "predictor = SentimentPredictor(endpoint_name=pytorch_endpoint_name,\n",
    "                               sagemaker_session=sagemaker_session)\n",
    "\n",
    "predicted_classes = predictor.predict(inputs)\n",
    "\n",
    "for predicted_class in predicted_classes:\n",
    "    print(\"Predicted class {} with probability {}\".format(predicted_class['predicted_label'], predicted_class['probability']))"
   ]
  },
  {
   "cell_type": "code",
   "execution_count": 58,
   "id": "9b7a1008",
   "metadata": {},
   "outputs": [
    {
     "name": "stderr",
     "output_type": "stream",
     "text": [
      "INFO:sagemaker:Deleting endpoint configuration with name: pytorch-training-2023-01-09-17-09-57-083-pt-1673290741\n",
      "INFO:sagemaker:Deleting endpoint with name: pytorch-training-2023-01-09-17-09-57-083-pt-1673290741\n"
     ]
    }
   ],
   "source": [
    "predictor.delete_endpoint()"
   ]
  },
  {
   "cell_type": "code",
   "execution_count": null,
   "id": "1e7326cc",
   "metadata": {},
   "outputs": [],
   "source": []
  }
 ],
 "metadata": {
  "kernelspec": {
   "display_name": "Python 3",
   "language": "python",
   "name": "python3"
  },
  "language_info": {
   "codemirror_mode": {
    "name": "ipython",
    "version": 3
   },
   "file_extension": ".py",
   "mimetype": "text/x-python",
   "name": "python",
   "nbconvert_exporter": "python",
   "pygments_lexer": "ipython3",
   "version": "3.7.3 (default, Apr 24 2020, 18:51:23) \n[Clang 11.0.3 (clang-1103.0.32.62)]"
  },
  "vscode": {
   "interpreter": {
    "hash": "31f2aee4e71d21fbe5cf8b01ff0e069b9275f58929596ceb00d14d90e3e16cd6"
   }
  }
 },
 "nbformat": 4,
 "nbformat_minor": 5
}
