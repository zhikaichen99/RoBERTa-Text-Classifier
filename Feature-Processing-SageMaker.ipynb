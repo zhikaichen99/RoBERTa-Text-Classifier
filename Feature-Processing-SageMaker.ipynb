{
 "cells": [
  {
   "attachments": {},
   "cell_type": "markdown",
   "id": "c0145924",
   "metadata": {},
   "source": [
    "# Data Processing Notebook"
   ]
  },
  {
   "attachments": {},
   "cell_type": "markdown",
   "id": "b2646617",
   "metadata": {},
   "source": [
    "# Import Libraries and Data"
   ]
  },
  {
   "cell_type": "code",
   "execution_count": 1,
   "id": "5ad8751e",
   "metadata": {},
   "outputs": [],
   "source": [
    "# import libraries\n",
    "import pandas as pd\n",
    "from transformers import RobertaTokenizer"
   ]
  },
  {
   "cell_type": "code",
   "execution_count": 2,
   "id": "309d07ac",
   "metadata": {},
   "outputs": [],
   "source": [
    "# Load customer reviews data\n",
    "df = pd.read_csv('data/Womens Clothing E-Commerce Reviews.csv', index_col = 0)"
   ]
  },
  {
   "cell_type": "code",
   "execution_count": 3,
   "id": "230a57e8",
   "metadata": {},
   "outputs": [
    {
     "data": {
      "text/plain": [
       "Index(['Clothing ID', 'Age', 'Title', 'Review Text', 'Rating',\n",
       "       'Recommended IND', 'Positive Feedback Count', 'Division Name',\n",
       "       'Department Name', 'Class Name'],\n",
       "      dtype='object')"
      ]
     },
     "execution_count": 3,
     "metadata": {},
     "output_type": "execute_result"
    }
   ],
   "source": [
    "# Look at the columns of the dataframe\n",
    "df.columns"
   ]
  },
  {
   "attachments": {},
   "cell_type": "markdown",
   "id": "601026e6",
   "metadata": {},
   "source": [
    "## Sample Dataset"
   ]
  },
  {
   "cell_type": "code",
   "execution_count": 4,
   "id": "fb57a89f",
   "metadata": {},
   "outputs": [],
   "source": [
    "# randomly sample 1000 rows from the dataframe\n",
    "sample_df = df.sample(1000)\n",
    "# remove any rows with missing values from sampled dataframe\n",
    "sample_df = sample_df.dropna()"
   ]
  },
  {
   "cell_type": "code",
   "execution_count": 5,
   "id": "24703829",
   "metadata": {},
   "outputs": [],
   "source": [
    "# reset the index of the sampled dataframe to start at 0\n",
    "sample_df = sample_df.reset_index(drop = True)"
   ]
  },
  {
   "cell_type": "code",
   "execution_count": 6,
   "id": "ed00787a",
   "metadata": {},
   "outputs": [
    {
     "data": {
      "text/plain": [
       "Index(['Clothing ID', 'Age', 'Title', 'Review Text', 'Rating',\n",
       "       'Recommended IND', 'Positive Feedback Count', 'Division Name',\n",
       "       'Department Name', 'Class Name'],\n",
       "      dtype='object')"
      ]
     },
     "execution_count": 6,
     "metadata": {},
     "output_type": "execute_result"
    }
   ],
   "source": [
    "sample_df.columns"
   ]
  },
  {
   "attachments": {},
   "cell_type": "markdown",
   "id": "3e9dc823",
   "metadata": {},
   "source": [
    "## Process the sampled data"
   ]
  },
  {
   "cell_type": "code",
   "execution_count": 7,
   "id": "9cb4404f",
   "metadata": {},
   "outputs": [
    {
     "data": {
      "application/vnd.jupyter.widget-view+json": {
       "model_id": "4e3c7b4f92d24571bb06b15154f58f32",
       "version_major": 2,
       "version_minor": 0
      },
      "text/plain": [
       "Downloading:   0%|          | 0.00/899k [00:00<?, ?B/s]"
      ]
     },
     "metadata": {},
     "output_type": "display_data"
    },
    {
     "data": {
      "application/vnd.jupyter.widget-view+json": {
       "model_id": "bc7fad82fe0d45a7b837f972aed4a415",
       "version_major": 2,
       "version_minor": 0
      },
      "text/plain": [
       "Downloading:   0%|          | 0.00/456k [00:00<?, ?B/s]"
      ]
     },
     "metadata": {},
     "output_type": "display_data"
    },
    {
     "data": {
      "application/vnd.jupyter.widget-view+json": {
       "model_id": "53b483b05fd1422182c8e9620bf7bba5",
       "version_major": 2,
       "version_minor": 0
      },
      "text/plain": [
       "Downloading:   0%|          | 0.00/481 [00:00<?, ?B/s]"
      ]
     },
     "metadata": {},
     "output_type": "display_data"
    }
   ],
   "source": [
    "# set the name of the pre-trained model and initialize the tokenizer\n",
    "PRE_TRAINED_MODEL = 'roberta-base'\n",
    "tokenizer = RobertaTokenizer.from_pretrained(PRE_TRAINED_MODEL, do_lower_case = True)\n",
    "\n",
    "# set the maximum sequence length for the tokenization\n",
    "max_seq_length = 128\n",
    "\n",
    "# create empty lists to store the input ids and attention masks\n",
    "input_ids = []\n",
    "attention_mask = []\n",
    "\n",
    "# Convert the text to required formatting for BERT\n",
    "reviews = sample_df['Review Text'].values\n",
    "\n",
    "for review in reviews:\n",
    "    # tokenize the review using the tokenizer\n",
    "    encode_plus = tokenizer.encode_plus(\n",
    "        review,\n",
    "        add_special_tokens = True,\n",
    "        max_length = max_seq_length,\n",
    "        return_token_type_ids = False,\n",
    "        padding = 'max_length',\n",
    "        return_attention_mask = True,\n",
    "        return_tensors = 'pt',\n",
    "        truncation = True\n",
    "    )\n",
    "    # append the input ids and attention mask for the review to the lists\n",
    "    input_ids.append(encode_plus['input_ids'])\n",
    "    attention_mask.append(encode_plus['attention_mask'])"
   ]
  },
  {
   "cell_type": "code",
   "execution_count": 8,
   "id": "83ed5c2e",
   "metadata": {},
   "outputs": [
    {
     "data": {
      "text/plain": [
       "{'input_ids': tensor([[    0,   133,  1468,    16,   372, 12846,   300,   106,    11,   258,\n",
       "          8089,     8,   439,    19,    10,  6764,  1836,    13,    65,     4,\n",
       "           961, 33391,   106,   328,     2,     1,     1,     1,     1,     1,\n",
       "             1,     1,     1,     1,     1,     1,     1,     1,     1,     1,\n",
       "             1,     1,     1,     1,     1,     1,     1,     1,     1,     1,\n",
       "             1,     1,     1,     1,     1,     1,     1,     1,     1,     1,\n",
       "             1,     1,     1,     1,     1,     1,     1,     1,     1,     1,\n",
       "             1,     1,     1,     1,     1,     1,     1,     1,     1,     1,\n",
       "             1,     1,     1,     1,     1,     1,     1,     1,     1,     1,\n",
       "             1,     1,     1,     1,     1,     1,     1,     1,     1,     1,\n",
       "             1,     1,     1,     1,     1,     1,     1,     1,     1,     1,\n",
       "             1,     1,     1,     1,     1,     1,     1,     1,     1,     1,\n",
       "             1,     1,     1,     1,     1,     1,     1,     1]]), 'attention_mask': tensor([[1, 1, 1, 1, 1, 1, 1, 1, 1, 1, 1, 1, 1, 1, 1, 1, 1, 1, 1, 1, 1, 1, 1, 1,\n",
       "         1, 0, 0, 0, 0, 0, 0, 0, 0, 0, 0, 0, 0, 0, 0, 0, 0, 0, 0, 0, 0, 0, 0, 0,\n",
       "         0, 0, 0, 0, 0, 0, 0, 0, 0, 0, 0, 0, 0, 0, 0, 0, 0, 0, 0, 0, 0, 0, 0, 0,\n",
       "         0, 0, 0, 0, 0, 0, 0, 0, 0, 0, 0, 0, 0, 0, 0, 0, 0, 0, 0, 0, 0, 0, 0, 0,\n",
       "         0, 0, 0, 0, 0, 0, 0, 0, 0, 0, 0, 0, 0, 0, 0, 0, 0, 0, 0, 0, 0, 0, 0, 0,\n",
       "         0, 0, 0, 0, 0, 0, 0, 0]])}"
      ]
     },
     "execution_count": 8,
     "metadata": {},
     "output_type": "execute_result"
    }
   ],
   "source": [
    "# Here is what the encoding of the last review looks like. Returns a dictionary with the input id and the attention mask\n",
    "encode_plus"
   ]
  },
  {
   "cell_type": "code",
   "execution_count": 9,
   "id": "7f7b5219",
   "metadata": {},
   "outputs": [],
   "source": [
    "# create an empty list to store the flattened input ids\n",
    "input_ids_df = []\n",
    "\n",
    "# iterate through the input ids and flatten them before appending to the list\n",
    "for input_id in input_ids:\n",
    "    input_ids_df.append(input_id.flatten().tolist())"
   ]
  },
  {
   "cell_type": "code",
   "execution_count": 10,
   "id": "f7cd93ed",
   "metadata": {},
   "outputs": [
    {
     "data": {
      "text/html": [
       "<div>\n",
       "<style scoped>\n",
       "    .dataframe tbody tr th:only-of-type {\n",
       "        vertical-align: middle;\n",
       "    }\n",
       "\n",
       "    .dataframe tbody tr th {\n",
       "        vertical-align: top;\n",
       "    }\n",
       "\n",
       "    .dataframe thead th {\n",
       "        text-align: right;\n",
       "    }\n",
       "</style>\n",
       "<table border=\"1\" class=\"dataframe\">\n",
       "  <thead>\n",
       "    <tr style=\"text-align: right;\">\n",
       "      <th></th>\n",
       "      <th>Clothing ID</th>\n",
       "      <th>Age</th>\n",
       "      <th>Title</th>\n",
       "      <th>Review Text</th>\n",
       "      <th>Rating</th>\n",
       "      <th>Recommended IND</th>\n",
       "      <th>Positive Feedback Count</th>\n",
       "      <th>Division Name</th>\n",
       "      <th>Department Name</th>\n",
       "      <th>Class Name</th>\n",
       "      <th>input_ids</th>\n",
       "    </tr>\n",
       "  </thead>\n",
       "  <tbody>\n",
       "    <tr>\n",
       "      <th>0</th>\n",
       "      <td>1033</td>\n",
       "      <td>45</td>\n",
       "      <td>Love them</td>\n",
       "      <td>Sits slightly below waist, i bought size 30p, ...</td>\n",
       "      <td>5</td>\n",
       "      <td>1</td>\n",
       "      <td>1</td>\n",
       "      <td>General Petite</td>\n",
       "      <td>Bottoms</td>\n",
       "      <td>Jeans</td>\n",
       "      <td>[0, 104, 2629, 2829, 874, 13977, 6, 939, 2162,...</td>\n",
       "    </tr>\n",
       "  </tbody>\n",
       "</table>\n",
       "</div>"
      ],
      "text/plain": [
       "   Clothing ID  Age      Title  \\\n",
       "0         1033   45  Love them   \n",
       "\n",
       "                                         Review Text  Rating  Recommended IND  \\\n",
       "0  Sits slightly below waist, i bought size 30p, ...       5                1   \n",
       "\n",
       "   Positive Feedback Count   Division Name Department Name Class Name  \\\n",
       "0                        1  General Petite         Bottoms      Jeans   \n",
       "\n",
       "                                           input_ids  \n",
       "0  [0, 104, 2629, 2829, 874, 13977, 6, 939, 2162,...  "
      ]
     },
     "execution_count": 10,
     "metadata": {},
     "output_type": "execute_result"
    }
   ],
   "source": [
    "sample_df['input_ids'] = input_ids_df\n",
    "sample_df.head(1)"
   ]
  },
  {
   "cell_type": "code",
   "execution_count": 11,
   "id": "afb52f9c",
   "metadata": {},
   "outputs": [],
   "source": [
    "# Convert ratings into sentiment\n",
    "def convert_to_sentiment(rating):\n",
    "    \"\"\"\n",
    "    Converts a numerical rating to a sentiment label\n",
    "\n",
    "    Input:\n",
    "        rating: A numeric rating between 1 and 5\n",
    "    Output:\n",
    "        int: a sentiment where -1 represents negative sentiment, 0 represents neutral, and 1 represents positive\n",
    "    \"\"\"\n",
    "    if rating in {1,2}:\n",
    "        return -1\n",
    "    if rating == 3:\n",
    "        return 0\n",
    "    if rating in {4,5}:\n",
    "        return 1\n",
    "    \n",
    "sample_df['sentiment'] = sample_df['Rating'].apply(lambda rating: convert_to_sentiment(rating))"
   ]
  },
  {
   "cell_type": "code",
   "execution_count": 12,
   "id": "a523c0ef",
   "metadata": {},
   "outputs": [],
   "source": [
    "# convert sentiments to label ids\n",
    "def convert_sentiment_labelid(sentiment):\n",
    "    \"\"\"\n",
    "    Convert sentiment label to Integer ID\n",
    "\n",
    "    Input:\n",
    "        sentiment: Sentiment label (-1 for negative, 0 for neutral, 1 for positive)\n",
    "    Output:\n",
    "        int: Integer ID (0 for negative, 1 for neutral, 2 for positive)\n",
    "    \"\"\"\n",
    "    if sentiment == -1:\n",
    "        return 0\n",
    "    if sentiment == 0:\n",
    "        return 1\n",
    "    if sentiment == 1:\n",
    "        return 2\n",
    "    \n",
    "sample_df['label_ids'] = sample_df['sentiment'].apply(lambda sentiment: convert_sentiment_labelid(sentiment))"
   ]
  },
  {
   "cell_type": "code",
   "execution_count": 13,
   "id": "4c82b6ee",
   "metadata": {},
   "outputs": [
    {
     "data": {
      "text/html": [
       "<div>\n",
       "<style scoped>\n",
       "    .dataframe tbody tr th:only-of-type {\n",
       "        vertical-align: middle;\n",
       "    }\n",
       "\n",
       "    .dataframe tbody tr th {\n",
       "        vertical-align: top;\n",
       "    }\n",
       "\n",
       "    .dataframe thead th {\n",
       "        text-align: right;\n",
       "    }\n",
       "</style>\n",
       "<table border=\"1\" class=\"dataframe\">\n",
       "  <thead>\n",
       "    <tr style=\"text-align: right;\">\n",
       "      <th></th>\n",
       "      <th>Clothing ID</th>\n",
       "      <th>Age</th>\n",
       "      <th>Title</th>\n",
       "      <th>Review Text</th>\n",
       "      <th>Rating</th>\n",
       "      <th>Recommended IND</th>\n",
       "      <th>Positive Feedback Count</th>\n",
       "      <th>Division Name</th>\n",
       "      <th>Department Name</th>\n",
       "      <th>Class Name</th>\n",
       "      <th>input_ids</th>\n",
       "      <th>sentiment</th>\n",
       "      <th>label_ids</th>\n",
       "    </tr>\n",
       "  </thead>\n",
       "  <tbody>\n",
       "    <tr>\n",
       "      <th>0</th>\n",
       "      <td>1033</td>\n",
       "      <td>45</td>\n",
       "      <td>Love them</td>\n",
       "      <td>Sits slightly below waist, i bought size 30p, ...</td>\n",
       "      <td>5</td>\n",
       "      <td>1</td>\n",
       "      <td>1</td>\n",
       "      <td>General Petite</td>\n",
       "      <td>Bottoms</td>\n",
       "      <td>Jeans</td>\n",
       "      <td>[0, 104, 2629, 2829, 874, 13977, 6, 939, 2162,...</td>\n",
       "      <td>1</td>\n",
       "      <td>2</td>\n",
       "    </tr>\n",
       "  </tbody>\n",
       "</table>\n",
       "</div>"
      ],
      "text/plain": [
       "   Clothing ID  Age      Title  \\\n",
       "0         1033   45  Love them   \n",
       "\n",
       "                                         Review Text  Rating  Recommended IND  \\\n",
       "0  Sits slightly below waist, i bought size 30p, ...       5                1   \n",
       "\n",
       "   Positive Feedback Count   Division Name Department Name Class Name  \\\n",
       "0                        1  General Petite         Bottoms      Jeans   \n",
       "\n",
       "                                           input_ids  sentiment  label_ids  \n",
       "0  [0, 104, 2629, 2829, 874, 13977, 6, 939, 2162,...          1          2  "
      ]
     },
     "execution_count": 13,
     "metadata": {},
     "output_type": "execute_result"
    }
   ],
   "source": [
    "sample_df.head(1)"
   ]
  },
  {
   "cell_type": "code",
   "execution_count": 14,
   "id": "d934b032",
   "metadata": {},
   "outputs": [],
   "source": [
    "sample_df.reset_index(inplace = True)"
   ]
  },
  {
   "cell_type": "code",
   "execution_count": 15,
   "id": "e5b94894",
   "metadata": {},
   "outputs": [
    {
     "data": {
      "text/html": [
       "<div>\n",
       "<style scoped>\n",
       "    .dataframe tbody tr th:only-of-type {\n",
       "        vertical-align: middle;\n",
       "    }\n",
       "\n",
       "    .dataframe tbody tr th {\n",
       "        vertical-align: top;\n",
       "    }\n",
       "\n",
       "    .dataframe thead th {\n",
       "        text-align: right;\n",
       "    }\n",
       "</style>\n",
       "<table border=\"1\" class=\"dataframe\">\n",
       "  <thead>\n",
       "    <tr style=\"text-align: right;\">\n",
       "      <th></th>\n",
       "      <th>index</th>\n",
       "      <th>Clothing ID</th>\n",
       "      <th>Age</th>\n",
       "      <th>Title</th>\n",
       "      <th>Review Text</th>\n",
       "      <th>Rating</th>\n",
       "      <th>Recommended IND</th>\n",
       "      <th>Positive Feedback Count</th>\n",
       "      <th>Division Name</th>\n",
       "      <th>Department Name</th>\n",
       "      <th>Class Name</th>\n",
       "      <th>input_ids</th>\n",
       "      <th>sentiment</th>\n",
       "      <th>label_ids</th>\n",
       "    </tr>\n",
       "  </thead>\n",
       "  <tbody>\n",
       "    <tr>\n",
       "      <th>0</th>\n",
       "      <td>0</td>\n",
       "      <td>1033</td>\n",
       "      <td>45</td>\n",
       "      <td>Love them</td>\n",
       "      <td>Sits slightly below waist, i bought size 30p, ...</td>\n",
       "      <td>5</td>\n",
       "      <td>1</td>\n",
       "      <td>1</td>\n",
       "      <td>General Petite</td>\n",
       "      <td>Bottoms</td>\n",
       "      <td>Jeans</td>\n",
       "      <td>[0, 104, 2629, 2829, 874, 13977, 6, 939, 2162,...</td>\n",
       "      <td>1</td>\n",
       "      <td>2</td>\n",
       "    </tr>\n",
       "  </tbody>\n",
       "</table>\n",
       "</div>"
      ],
      "text/plain": [
       "   index  Clothing ID  Age      Title  \\\n",
       "0      0         1033   45  Love them   \n",
       "\n",
       "                                         Review Text  Rating  Recommended IND  \\\n",
       "0  Sits slightly below waist, i bought size 30p, ...       5                1   \n",
       "\n",
       "   Positive Feedback Count   Division Name Department Name Class Name  \\\n",
       "0                        1  General Petite         Bottoms      Jeans   \n",
       "\n",
       "                                           input_ids  sentiment  label_ids  \n",
       "0  [0, 104, 2629, 2829, 874, 13977, 6, 939, 2162,...          1          2  "
      ]
     },
     "execution_count": 15,
     "metadata": {},
     "output_type": "execute_result"
    }
   ],
   "source": [
    "sample_df.head(1)"
   ]
  },
  {
   "cell_type": "code",
   "execution_count": 16,
   "id": "c10bfeac",
   "metadata": {},
   "outputs": [],
   "source": [
    "# rename columns in dataframe\n",
    "sample_df = sample_df.rename(columns = {'index': 'review_id',\n",
    "                                        'Review Text': 'review_body'})"
   ]
  },
  {
   "cell_type": "code",
   "execution_count": 17,
   "id": "d98c3f29",
   "metadata": {},
   "outputs": [],
   "source": [
    "# Keep important columns\n",
    "sample_df = sample_df[['review_id', 'sentiment', 'label_ids', 'input_ids', 'review_body']]\n",
    "sample_df = sample_df.reset_index(drop = True)"
   ]
  },
  {
   "cell_type": "code",
   "execution_count": 18,
   "id": "7f2841db",
   "metadata": {},
   "outputs": [
    {
     "data": {
      "text/html": [
       "<div>\n",
       "<style scoped>\n",
       "    .dataframe tbody tr th:only-of-type {\n",
       "        vertical-align: middle;\n",
       "    }\n",
       "\n",
       "    .dataframe tbody tr th {\n",
       "        vertical-align: top;\n",
       "    }\n",
       "\n",
       "    .dataframe thead th {\n",
       "        text-align: right;\n",
       "    }\n",
       "</style>\n",
       "<table border=\"1\" class=\"dataframe\">\n",
       "  <thead>\n",
       "    <tr style=\"text-align: right;\">\n",
       "      <th></th>\n",
       "      <th>review_id</th>\n",
       "      <th>sentiment</th>\n",
       "      <th>label_ids</th>\n",
       "      <th>input_ids</th>\n",
       "      <th>review_body</th>\n",
       "    </tr>\n",
       "  </thead>\n",
       "  <tbody>\n",
       "    <tr>\n",
       "      <th>0</th>\n",
       "      <td>0</td>\n",
       "      <td>1</td>\n",
       "      <td>2</td>\n",
       "      <td>[0, 104, 2629, 2829, 874, 13977, 6, 939, 2162,...</td>\n",
       "      <td>Sits slightly below waist, i bought size 30p, ...</td>\n",
       "    </tr>\n",
       "  </tbody>\n",
       "</table>\n",
       "</div>"
      ],
      "text/plain": [
       "   review_id  sentiment  label_ids  \\\n",
       "0          0          1          2   \n",
       "\n",
       "                                           input_ids  \\\n",
       "0  [0, 104, 2629, 2829, 874, 13977, 6, 939, 2162,...   \n",
       "\n",
       "                                         review_body  \n",
       "0  Sits slightly below waist, i bought size 30p, ...  "
      ]
     },
     "execution_count": 18,
     "metadata": {},
     "output_type": "execute_result"
    }
   ],
   "source": [
    "sample_df.head(1)"
   ]
  },
  {
   "cell_type": "code",
   "execution_count": 19,
   "id": "34914341",
   "metadata": {},
   "outputs": [],
   "source": [
    "# balance the dataset\n",
    "# group the unbalanced dataset by sentiment class\n",
    "df_sample_unbalanced = sample_df.groupby('sentiment')\n",
    "df_sample_balanced = df_sample_unbalanced.apply(lambda x: x.sample(df_sample_unbalanced.size().min()).reset_index(drop = True))\n",
    "df_sample = df_sample_balanced"
   ]
  },
  {
   "cell_type": "code",
   "execution_count": 20,
   "id": "08de3569",
   "metadata": {},
   "outputs": [],
   "source": [
    "# Add date feature \n",
    "import time\n",
    "from datetime import datetime\n",
    "\n",
    "timestamp = datetime.now().strftime(\"%Y-%m-%dT%H:%M:%SZ\")\n",
    "# add the timestampe to the sampled dataframe as a new column named 'date'\n",
    "df_sample['date'] = timestamp"
   ]
  },
  {
   "cell_type": "code",
   "execution_count": 21,
   "id": "546ea944",
   "metadata": {},
   "outputs": [],
   "source": [
    "# Split data into train, test, validation\n",
    "from sklearn.model_selection import train_test_split\n",
    "\n",
    "df_train, df_holdout = train_test_split(df_sample, test_size = 0.1, stratify = df_sample['sentiment'])\n",
    "df_validation, df_test = train_test_split(df_holdout, test_size = 0.5, stratify = df_holdout['sentiment'])"
   ]
  },
  {
   "cell_type": "code",
   "execution_count": 22,
   "id": "97ad7057",
   "metadata": {},
   "outputs": [],
   "source": [
    "df_train = df_train.reset_index(drop = True)\n",
    "df_validation = df_validation.reset_index(drop = True)\n",
    "df_test = df_test.reset_index(drop = True)"
   ]
  },
  {
   "cell_type": "code",
   "execution_count": 26,
   "id": "543b3bac",
   "metadata": {},
   "outputs": [
    {
     "data": {
      "text/plain": [
       "review_id       int64\n",
       "sentiment       int64\n",
       "label_ids       int64\n",
       "input_ids      object\n",
       "review_body    object\n",
       "date           object\n",
       "dtype: object"
      ]
     },
     "execution_count": 26,
     "metadata": {},
     "output_type": "execute_result"
    }
   ],
   "source": [
    "df_train.dtypes"
   ]
  },
  {
   "cell_type": "code",
   "execution_count": 27,
   "id": "16a19ee4",
   "metadata": {},
   "outputs": [],
   "source": [
    "# Convert object types to string\n",
    "def object_to_string(dataframe):\n",
    "    \"\"\"\n",
    "    This function converts the data types in given pandas dataframe to string data types\n",
    "    \n",
    "    Input:\n",
    "        dataframe: the pandas dataframe we are working with\n",
    "    Output:\n",
    "        dataframe: the same pandas dataframe, however columns are now string types\n",
    "    \"\"\"\n",
    "    # Loop through each column in the dataframe\n",
    "    for column in dataframe.columns:\n",
    "        # check if the column is of object data type\n",
    "        if dataframe.dtypes[column] == 'object':\n",
    "            # convert the column to string type\n",
    "            dataframe[column] = dataframe[column].astype('str').astype('string')\n",
    "    # return the converted dataframe\n",
    "    return dataframe\n",
    "\n",
    "df_train = object_to_string(df_train)\n",
    "df_validation = object_to_string(df_validation)\n",
    "df_test = object_to_string(df_test)"
   ]
  },
  {
   "cell_type": "code",
   "execution_count": 28,
   "id": "730c7041",
   "metadata": {},
   "outputs": [
    {
     "data": {
      "text/plain": [
       "review_id       int64\n",
       "sentiment       int64\n",
       "label_ids       int64\n",
       "input_ids      string\n",
       "review_body    string\n",
       "date           string\n",
       "dtype: object"
      ]
     },
     "execution_count": 28,
     "metadata": {},
     "output_type": "execute_result"
    }
   ],
   "source": [
    "df_train.dtypes"
   ]
  },
  {
   "cell_type": "markdown",
   "id": "33abee00",
   "metadata": {},
   "source": [
    "# SageMaker Processing Job"
   ]
  },
  {
   "cell_type": "code",
   "execution_count": 39,
   "id": "7350f3a3",
   "metadata": {},
   "outputs": [
    {
     "name": "stderr",
     "output_type": "stream",
     "text": [
      "INFO:botocore.credentials:Found credentials from IAM Role: BaseNotebookInstanceEc2InstanceRole\n",
      "INFO:botocore.credentials:Found credentials from IAM Role: BaseNotebookInstanceEc2InstanceRole\n"
     ]
    }
   ],
   "source": [
    "import sagemaker\n",
    "import boto3\n",
    "\n",
    "# initialize SageMaker session and get the default S3 bucket name\n",
    "sagemaker_session = sagemaker.Session()\n",
    "bucket = sagemaker_session.default_bucket()\n",
    "\n",
    "# get the IAM role for the current notebook instance\n",
    "role = sagemaker.get_execution_role()\n",
    "\n",
    "# get the region name of the current AWS session using Boto3\n",
    "region = boto3.Session().region_name"
   ]
  },
  {
   "cell_type": "code",
   "execution_count": 46,
   "id": "fd483899",
   "metadata": {},
   "outputs": [],
   "source": [
    "# set the processing instance type and count for the sagemaker processing job\n",
    "processing_instance_type='ml.c5.xlarge'\n",
    "processing_instance_count=1\n",
    "\n",
    "# set the percentage of data to use for training, validation, and test set\n",
    "train_split_percentage=0.90\n",
    "validation_split_percentage=0.05\n",
    "test_split_percentage=0.05\n",
    "\n",
    "# set a flag to balance the dataset\n",
    "balance_dataset=True\n",
    "\n",
    "# set the maximum sequence length\n",
    "max_seq_length=128"
   ]
  },
  {
   "cell_type": "code",
   "execution_count": 47,
   "id": "620dec91",
   "metadata": {},
   "outputs": [
    {
     "name": "stderr",
     "output_type": "stream",
     "text": [
      "INFO:botocore.credentials:Found credentials from IAM Role: BaseNotebookInstanceEc2InstanceRole\n",
      "INFO:sagemaker.image_uris:Defaulting to only available Python version: py3\n"
     ]
    }
   ],
   "source": [
    "from sagemaker.sklearn.processing import SKLearnProcessor\n",
    "\n",
    "# create an instance of the SKLearnProcessor class with the following configuration\n",
    "processor = SKLearnProcessor(\n",
    "    framework_version='0.23-1',\n",
    "    role=role,\n",
    "    instance_type=processing_instance_type,\n",
    "    instance_count=processing_instance_count,\n",
    "    env={'AWS_DEFAULT_REGION': region},                             \n",
    "    max_runtime_in_seconds=7200 # the maximum amount of time to allow for the processing job in seconds\n",
    ")"
   ]
  },
  {
   "attachments": {},
   "cell_type": "markdown",
   "id": "8640ac4a",
   "metadata": {},
   "source": [
    "The code below runs a SageMaker processing job that executes 'prepare-data.py' script with the specified input data, output data, and arguments.\n",
    "\n",
    "The input data is stored in the default s3 bucket that we initialized earlier.\n",
    "\n",
    "The ouput data is stored in the 'sentiment-train', 'sentiment-validation' and 'sentiment-test' folders respectively."
   ]
  },
  {
   "cell_type": "code",
   "execution_count": 48,
   "id": "e726018e",
   "metadata": {},
   "outputs": [
    {
     "name": "stderr",
     "output_type": "stream",
     "text": [
      "INFO:sagemaker:Creating processing-job with name sagemaker-scikit-learn-2023-01-06-17-33-49-347\n"
     ]
    },
    {
     "name": "stdout",
     "output_type": "stream",
     "text": [
      "\n",
      "Job Name:  sagemaker-scikit-learn-2023-01-06-17-33-49-347\n",
      "Inputs:  [{'InputName': 'input-1', 'AppManaged': False, 'S3Input': {'S3Uri': 's3://sagemaker-us-east-2-003294323742/data/csv/', 'LocalPath': '/opt/ml/processing/input/data/', 'S3DataType': 'S3Prefix', 'S3InputMode': 'File', 'S3DataDistributionType': 'ShardedByS3Key', 'S3CompressionType': 'None'}}, {'InputName': 'code', 'AppManaged': False, 'S3Input': {'S3Uri': 's3://sagemaker-us-east-2-003294323742/sagemaker-scikit-learn-2023-01-06-17-33-49-347/input/code/prepare-data.py', 'LocalPath': '/opt/ml/processing/input/code', 'S3DataType': 'S3Prefix', 'S3InputMode': 'File', 'S3DataDistributionType': 'FullyReplicated', 'S3CompressionType': 'None'}}]\n",
      "Outputs:  [{'OutputName': 'sentiment-train', 'AppManaged': False, 'S3Output': {'S3Uri': 's3://sagemaker-us-east-2-003294323742/sagemaker-scikit-learn-2023-01-06-17-33-49-347/output/sentiment-train', 'LocalPath': '/opt/ml/processing/output/sentiment/train', 'S3UploadMode': 'EndOfJob'}}, {'OutputName': 'sentiment-validation', 'AppManaged': False, 'S3Output': {'S3Uri': 's3://sagemaker-us-east-2-003294323742/sagemaker-scikit-learn-2023-01-06-17-33-49-347/output/sentiment-validation', 'LocalPath': '/opt/ml/processing/output/sentiment/validation', 'S3UploadMode': 'EndOfJob'}}, {'OutputName': 'sentiment-test', 'AppManaged': False, 'S3Output': {'S3Uri': 's3://sagemaker-us-east-2-003294323742/sagemaker-scikit-learn-2023-01-06-17-33-49-347/output/sentiment-test', 'LocalPath': '/opt/ml/processing/output/sentiment/test', 'S3UploadMode': 'EndOfJob'}}]\n"
     ]
    }
   ],
   "source": [
    "raw_input_data_s3_uri = 's3://{}/data/csv/'.format(bucket)\n",
    "\n",
    "from sagemaker.processing import ProcessingInput, ProcessingOutput\n",
    "\n",
    "processor.run(code = 'src/prepare-data.py',\n",
    "             inputs = [\n",
    "                 ProcessingInput(source = raw_input_data_s3_uri,\n",
    "                                 destination = '/opt/ml/processing/input/data/',\n",
    "                                 s3_data_distribution_type = 'ShardedByS3Key')\n",
    "             ],\n",
    "              outputs=[\n",
    "                    ProcessingOutput(output_name='sentiment-train',\n",
    "                                     source='/opt/ml/processing/output/sentiment/train',\n",
    "                                     s3_upload_mode='EndOfJob'),\n",
    "                    ProcessingOutput(output_name='sentiment-validation',\n",
    "                                     source='/opt/ml/processing/output/sentiment/validation',\n",
    "                                     s3_upload_mode='EndOfJob'),\n",
    "                    ProcessingOutput(output_name='sentiment-test',\n",
    "                                     source='/opt/ml/processing/output/sentiment/test',\n",
    "                                     s3_upload_mode='EndOfJob')\n",
    "             ],\n",
    "              arguments=['--train-split-percentage', str(train_split_percentage),\n",
    "                         '--validation-split-percentage', str(validation_split_percentage),\n",
    "                         '--test-split-percentage', str(test_split_percentage),\n",
    "                         '--balance-dataset', str(balance_dataset),\n",
    "                         '--max-seq-length', str(max_seq_length),                                                  \n",
    "              ],\n",
    "              logs=True, # set to true to enable logging of processing job output\n",
    "              wait=False) "
   ]
  },
  {
   "cell_type": "code",
   "execution_count": 49,
   "id": "62756b55",
   "metadata": {},
   "outputs": [
    {
     "name": "stdout",
     "output_type": "stream",
     "text": [
      "Processing job name: sagemaker-scikit-learn-2023-01-06-17-33-49-347\n"
     ]
    }
   ],
   "source": [
    "# get the name of the latest processing job\n",
    "scikit_processing_job_name = processor.jobs[-1].describe()['ProcessingJobName']\n",
    "\n",
    "print('Processing job name: {}'.format(scikit_processing_job_name))"
   ]
  },
  {
   "cell_type": "code",
   "execution_count": 50,
   "id": "0e19e77a",
   "metadata": {},
   "outputs": [
    {
     "name": "stdout",
     "output_type": "stream",
     "text": [
      "Processing job status: InProgress\n"
     ]
    }
   ],
   "source": [
    "# get the status of the latest processing job\n",
    "scikit_processing_job_status = processor.jobs[-1].describe()['ProcessingJobStatus'] # Replace None\n",
    "print('Processing job status: {}'.format(scikit_processing_job_status))"
   ]
  },
  {
   "cell_type": "code",
   "execution_count": 51,
   "id": "876cae21",
   "metadata": {},
   "outputs": [
    {
     "name": "stdout",
     "output_type": "stream",
     "text": [
      "...........................................................................!CPU times: user 326 ms, sys: 30.3 ms, total: 356 ms\n",
      "Wall time: 6min 16s\n"
     ]
    }
   ],
   "source": [
    "%%time\n",
    "\n",
    "running_processor = sagemaker.processing.ProcessingJob.from_processing_name(\n",
    "    processing_job_name=scikit_processing_job_name,\n",
    "    sagemaker_session=sagemaker_session\n",
    ")\n",
    "\n",
    "running_processor.wait(logs=False)"
   ]
  },
  {
   "cell_type": "code",
   "execution_count": 52,
   "id": "38120675",
   "metadata": {},
   "outputs": [
    {
     "name": "stdout",
     "output_type": "stream",
     "text": [
      "s3://sagemaker-us-east-2-003294323742/sagemaker-scikit-learn-2023-01-06-17-33-49-347/output/sentiment-train\n",
      "s3://sagemaker-us-east-2-003294323742/sagemaker-scikit-learn-2023-01-06-17-33-49-347/output/sentiment-validation\n",
      "s3://sagemaker-us-east-2-003294323742/sagemaker-scikit-learn-2023-01-06-17-33-49-347/output/sentiment-test\n"
     ]
    }
   ],
   "source": [
    "processing_job_description = running_processor.describe()\n",
    "\n",
    "# retrieve the output s3 uri for the processed data from the completed processing job\n",
    "output_config = processing_job_description['ProcessingOutputConfig']\n",
    "for output in output_config['Outputs']:\n",
    "    if output['OutputName'] == 'sentiment-train':\n",
    "        processed_train_data_s3_uri = output['S3Output']['S3Uri']\n",
    "    if output['OutputName'] == 'sentiment-validation':\n",
    "        processed_validation_data_s3_uri = output['S3Output']['S3Uri']\n",
    "    if output['OutputName'] == 'sentiment-test':\n",
    "        processed_test_data_s3_uri = output['S3Output']['S3Uri']\n",
    "        \n",
    "print(processed_train_data_s3_uri)\n",
    "print(processed_validation_data_s3_uri)\n",
    "print(processed_test_data_s3_uri)"
   ]
  },
  {
   "cell_type": "code",
   "execution_count": 53,
   "id": "fa94e794",
   "metadata": {},
   "outputs": [
    {
     "name": "stdout",
     "output_type": "stream",
     "text": [
      "2023-01-06 17:39:59    4895996 train.csv\r\n"
     ]
    }
   ],
   "source": [
    "!aws s3 ls $processed_train_data_s3_uri/"
   ]
  },
  {
   "cell_type": "code",
   "execution_count": 54,
   "id": "6d351b42",
   "metadata": {},
   "outputs": [
    {
     "name": "stdout",
     "output_type": "stream",
     "text": [
      "2023-01-06 17:40:00     278047 validation.csv\r\n"
     ]
    }
   ],
   "source": [
    "!aws s3 ls $processed_validation_data_s3_uri/"
   ]
  },
  {
   "cell_type": "code",
   "execution_count": 55,
   "id": "4f9e9f46",
   "metadata": {},
   "outputs": [
    {
     "name": "stdout",
     "output_type": "stream",
     "text": [
      "2023-01-06 17:40:00     274177 test.csv\r\n"
     ]
    }
   ],
   "source": [
    "!aws s3 ls $processed_test_data_s3_uri/\n"
   ]
  },
  {
   "cell_type": "code",
   "execution_count": 56,
   "id": "a0c3e7ac",
   "metadata": {},
   "outputs": [
    {
     "name": "stdout",
     "output_type": "stream",
     "text": [
      "download: s3://sagemaker-us-east-2-003294323742/sagemaker-scikit-learn-2023-01-06-17-33-49-347/output/sentiment-train/train.csv to balanced/sentiment-train/train.csv\n",
      "download: s3://sagemaker-us-east-2-003294323742/sagemaker-scikit-learn-2023-01-06-17-33-49-347/output/sentiment-validation/validation.csv to balanced/sentiment-validation/validation.csv\n",
      "download: s3://sagemaker-us-east-2-003294323742/sagemaker-scikit-learn-2023-01-06-17-33-49-347/output/sentiment-test/test.csv to balanced/sentiment-test/test.csv\n"
     ]
    }
   ],
   "source": [
    "!aws s3 cp $processed_train_data_s3_uri/train.csv ./balanced/sentiment-train/\n",
    "!aws s3 cp $processed_validation_data_s3_uri/validation.csv ./balanced/sentiment-validation/\n",
    "!aws s3 cp $processed_test_data_s3_uri/test.csv ./balanced/sentiment-test/"
   ]
  },
  {
   "cell_type": "code",
   "execution_count": null,
   "id": "0ef92683",
   "metadata": {},
   "outputs": [],
   "source": []
  }
 ],
 "metadata": {
  "kernelspec": {
   "display_name": "Python 3",
   "language": "python",
   "name": "python3"
  },
  "language_info": {
   "codemirror_mode": {
    "name": "ipython",
    "version": 3
   },
   "file_extension": ".py",
   "mimetype": "text/x-python",
   "name": "python",
   "nbconvert_exporter": "python",
   "pygments_lexer": "ipython3",
   "version": "3.7.3"
  },
  "vscode": {
   "interpreter": {
    "hash": "31f2aee4e71d21fbe5cf8b01ff0e069b9275f58929596ceb00d14d90e3e16cd6"
   }
  }
 },
 "nbformat": 4,
 "nbformat_minor": 5
}
